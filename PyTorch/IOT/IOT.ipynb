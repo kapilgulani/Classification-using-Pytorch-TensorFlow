{
  "nbformat": 4,
  "nbformat_minor": 0,
  "metadata": {
    "colab": {
      "provenance": []
    },
    "kernelspec": {
      "name": "python3",
      "display_name": "Python 3"
    },
    "language_info": {
      "name": "python"
    }
  },
  "cells": [
    {
      "cell_type": "code",
      "source": [
        "import pandas as pd\n",
        "import numpy as np\n",
        "from sklearn.preprocessing import LabelEncoder, StandardScaler\n",
        "from sklearn.model_selection import train_test_split\n",
        "import torch\n",
        "import torch.nn as nn\n",
        "import torch.optim as optim\n",
        "from torch.utils.data import DataLoader, TensorDataset, random_split\n",
        "from sklearn.metrics import accuracy_score, confusion_matrix\n",
        "import matplotlib.pyplot as plt"
      ],
      "metadata": {
        "id": "6Az_vmKJPqlv"
      },
      "execution_count": 16,
      "outputs": []
    },
    {
      "cell_type": "code",
      "source": [
        "pip install ucimlrepo"
      ],
      "metadata": {
        "colab": {
          "base_uri": "https://localhost:8080/"
        },
        "id": "l8TXVjH9SZEg",
        "outputId": "2a4f6026-e10f-4455-d378-40020364b9e2"
      },
      "execution_count": 37,
      "outputs": [
        {
          "output_type": "stream",
          "name": "stdout",
          "text": [
            "Requirement already satisfied: ucimlrepo in /usr/local/lib/python3.10/dist-packages (0.0.6)\n"
          ]
        }
      ]
    },
    {
      "cell_type": "code",
      "source": [
        "from ucimlrepo import fetch_ucirepo\n",
        "rt_iot2022 = fetch_ucirepo(id=942)\n",
        "\n",
        "# Data\n",
        "X = rt_iot2022.data.features\n",
        "y = rt_iot2022.data.targets\n"
      ],
      "metadata": {
        "id": "rYi7FjFrSeVv"
      },
      "execution_count": 17,
      "outputs": []
    },
    {
      "cell_type": "code",
      "source": [
        "df = pd.concat([X, y], axis=1)  # Make sure y is a Series or adjust accordingly\n",
        "\n",
        "# Check the first few rows of the dataframe\n",
        "print(df.head())\n",
        "\n",
        "# Encoder for the 'Attack_type' column\n",
        "encoder = LabelEncoder()\n",
        "df['Attack_type'] = encoder.fit_transform(df['Attack_type'])\n",
        "\n",
        "# List of feature columns: assuming 'Attack_type' is now the last column\n",
        "feature_columns = df.columns[:-1]  # All columns except the last one"
      ],
      "metadata": {
        "colab": {
          "base_uri": "https://localhost:8080/"
        },
        "id": "7Lil24U7S0DD",
        "outputId": "7cf0791b-7620-447c-f9c6-5cfeeec5a727"
      },
      "execution_count": 18,
      "outputs": [
        {
          "output_type": "stream",
          "name": "stdout",
          "text": [
            "   id.orig_p  id.resp_p proto service  flow_duration  fwd_pkts_tot  \\\n",
            "0      38667       1883   tcp    mqtt      32.011598             9   \n",
            "1      51143       1883   tcp    mqtt      31.883584             9   \n",
            "2      44761       1883   tcp    mqtt      32.124053             9   \n",
            "3      60893       1883   tcp    mqtt      31.961063             9   \n",
            "4      51087       1883   tcp    mqtt      31.902362             9   \n",
            "\n",
            "   bwd_pkts_tot  fwd_data_pkts_tot  bwd_data_pkts_tot  fwd_pkts_per_sec  ...  \\\n",
            "0             5                  3                  3          0.281148  ...   \n",
            "1             5                  3                  3          0.282277  ...   \n",
            "2             5                  3                  3          0.280164  ...   \n",
            "3             5                  3                  3          0.281593  ...   \n",
            "4             5                  3                  3          0.282111  ...   \n",
            "\n",
            "   active.std     idle.min     idle.max     idle.tot     idle.avg  idle.std  \\\n",
            "0         0.0  29729182.96  29729182.96  29729182.96  29729182.96       0.0   \n",
            "1         0.0  29855277.06  29855277.06  29855277.06  29855277.06       0.0   \n",
            "2         0.0  29842149.02  29842149.02  29842149.02  29842149.02       0.0   \n",
            "3         0.0  29913774.97  29913774.97  29913774.97  29913774.97       0.0   \n",
            "4         0.0  29814704.90  29814704.90  29814704.90  29814704.90       0.0   \n",
            "\n",
            "   fwd_init_window_size  bwd_init_window_size  fwd_last_window_size  \\\n",
            "0                 64240                 26847                   502   \n",
            "1                 64240                 26847                   502   \n",
            "2                 64240                 26847                   502   \n",
            "3                 64240                 26847                   502   \n",
            "4                 64240                 26847                   502   \n",
            "\n",
            "    Attack_type  \n",
            "0  MQTT_Publish  \n",
            "1  MQTT_Publish  \n",
            "2  MQTT_Publish  \n",
            "3  MQTT_Publish  \n",
            "4  MQTT_Publish  \n",
            "\n",
            "[5 rows x 84 columns]\n"
          ]
        }
      ]
    },
    {
      "cell_type": "code",
      "source": [
        "# Assuming 'df' is your DataFrame and it contains categorical features besides 'Attack_type'\n",
        "categorical_cols = [col for col in df.columns if df[col].dtype == 'object' and col != 'Attack_type']  # list categorical columns\n",
        "df = pd.get_dummies(df, columns=categorical_cols)  # This will handle all categorical columns\n",
        "\n",
        "# Continue with feature and target separation\n",
        "feature_columns = [col for col in df.columns if col != 'Attack_type']  # Assume 'Attack_type' is the target\n",
        "X = df[feature_columns]\n",
        "y = df['Attack_type']\n",
        "\n",
        "# Encode labels if not already\n",
        "encoder = LabelEncoder()\n",
        "y = encoder.fit_transform(y)\n",
        "\n",
        "# Scale the features\n",
        "scaler = StandardScaler()\n",
        "X_scaled = scaler.fit_transform(X)\n",
        "\n",
        "# Convert to tensors\n",
        "X_tensor = torch.tensor(X_scaled.astype(np.float32))\n",
        "y_tensor = torch.tensor(y.astype(np.int64))\n"
      ],
      "metadata": {
        "id": "EAkq_3tSTviM"
      },
      "execution_count": 20,
      "outputs": []
    },
    {
      "cell_type": "code",
      "source": [
        "from torch.utils.data import DataLoader, TensorDataset, random_split\n",
        "\n",
        "# Create TensorDataset\n",
        "dataset = TensorDataset(X_tensor, y_tensor)\n",
        "\n",
        "# Split dataset into training, validation, and test sets\n",
        "num_total = len(dataset)\n",
        "num_train = int(num_total * 0.7)  # 70% of the data for training\n",
        "num_valid = int(num_total * 0.15)  # 15% for validation\n",
        "num_test = num_total - num_train - num_valid  # Remaining 15% for testing\n",
        "\n",
        "train_dataset, valid_dataset, test_dataset = random_split(dataset, [num_train, num_valid, num_test])\n",
        "\n",
        "# DataLoaders\n",
        "batch_size = 64\n",
        "train_loader = DataLoader(train_dataset, batch_size=batch_size, shuffle=True)\n",
        "valid_loader = DataLoader(valid_dataset, batch_size=batch_size, shuffle=False)\n",
        "test_loader = DataLoader(test_dataset, batch_size=batch_size, shuffle=False)\n"
      ],
      "metadata": {
        "id": "23izrhVBa7nK"
      },
      "execution_count": 21,
      "outputs": []
    },
    {
      "cell_type": "code",
      "source": [
        "class IOTClassifier(nn.Module):\n",
        "    def __init__(self, num_features):\n",
        "        super(IOTClassifier, self).__init__()\n",
        "        self.network = nn.Sequential(\n",
        "            nn.Linear(num_features, 512),\n",
        "            nn.ReLU(),\n",
        "            nn.BatchNorm1d(512),\n",
        "            nn.Dropout(0.3),\n",
        "            nn.Linear(512, 256),\n",
        "            nn.ReLU(),\n",
        "            nn.BatchNorm1d(256),\n",
        "            nn.Dropout(0.2),\n",
        "            nn.Linear(256, 128),\n",
        "            nn.ReLU(),\n",
        "            nn.BatchNorm1d(128),\n",
        "            nn.Dropout(0.2),\n",
        "            nn.Linear(128, 64),\n",
        "            nn.ReLU(),\n",
        "            nn.BatchNorm1d(64),\n",
        "            nn.Dropout(0.1),\n",
        "            nn.Linear(64, len(np.unique(y)))  # Assuming y contains your labels\n",
        "        )\n",
        "\n",
        "    def forward(self, x):\n",
        "        return self.network(x)\n",
        "\n",
        "# Instantiate the model\n",
        "num_features = X_tensor.shape[1]\n",
        "model = IOTClassifier(num_features)\n",
        "model.to(torch.device(\"cuda\" if torch.cuda.is_available() else \"cpu\"))\n"
      ],
      "metadata": {
        "colab": {
          "base_uri": "https://localhost:8080/"
        },
        "id": "AXGUJERYa80b",
        "outputId": "5fd2b01c-52d9-4f63-bf7c-748244d04e44"
      },
      "execution_count": 22,
      "outputs": [
        {
          "output_type": "execute_result",
          "data": {
            "text/plain": [
              "IOTClassifier(\n",
              "  (network): Sequential(\n",
              "    (0): Linear(in_features=94, out_features=512, bias=True)\n",
              "    (1): ReLU()\n",
              "    (2): BatchNorm1d(512, eps=1e-05, momentum=0.1, affine=True, track_running_stats=True)\n",
              "    (3): Dropout(p=0.3, inplace=False)\n",
              "    (4): Linear(in_features=512, out_features=256, bias=True)\n",
              "    (5): ReLU()\n",
              "    (6): BatchNorm1d(256, eps=1e-05, momentum=0.1, affine=True, track_running_stats=True)\n",
              "    (7): Dropout(p=0.2, inplace=False)\n",
              "    (8): Linear(in_features=256, out_features=128, bias=True)\n",
              "    (9): ReLU()\n",
              "    (10): BatchNorm1d(128, eps=1e-05, momentum=0.1, affine=True, track_running_stats=True)\n",
              "    (11): Dropout(p=0.2, inplace=False)\n",
              "    (12): Linear(in_features=128, out_features=64, bias=True)\n",
              "    (13): ReLU()\n",
              "    (14): BatchNorm1d(64, eps=1e-05, momentum=0.1, affine=True, track_running_stats=True)\n",
              "    (15): Dropout(p=0.1, inplace=False)\n",
              "    (16): Linear(in_features=64, out_features=12, bias=True)\n",
              "  )\n",
              ")"
            ]
          },
          "metadata": {},
          "execution_count": 22
        }
      ]
    },
    {
      "cell_type": "code",
      "source": [
        "# Loss and optimizer\n",
        "criterion = nn.CrossEntropyLoss()\n",
        "optimizer = optim.Adam(model.parameters(), lr=0.001)\n",
        "\n",
        "def train_model(model, criterion, optimizer, train_loader, valid_loader, epochs=10):\n",
        "    train_losses = []\n",
        "    val_losses = []\n",
        "    device = torch.device(\"cuda\" if torch.cuda.is_available() else \"cpu\")\n",
        "\n",
        "    for epoch in range(epochs):\n",
        "        model.train()  # Set model to training mode\n",
        "        running_loss = 0.0\n",
        "        for inputs, labels in train_loader:\n",
        "            inputs, labels = inputs.to(device), labels.to(device)\n",
        "\n",
        "            optimizer.zero_grad()\n",
        "            outputs = model(inputs)\n",
        "            loss = criterion(outputs, labels)\n",
        "            loss.backward()\n",
        "            optimizer.step()\n",
        "\n",
        "            running_loss += loss.item() * inputs.size(0)\n",
        "\n",
        "        epoch_loss = running_loss / len(train_loader.dataset)\n",
        "        train_losses.append(epoch_loss)\n",
        "\n",
        "        # Validation phase\n",
        "        model.eval()  # Set model to evaluation mode\n",
        "        val_loss = 0.0\n",
        "        with torch.no_grad():\n",
        "            for inputs, labels in valid_loader:\n",
        "                inputs, labels = inputs.to(device), labels.to(device)\n",
        "                outputs = model(inputs)\n",
        "                loss = criterion(outputs, labels)\n",
        "                val_loss += loss.item() * inputs.size(0)\n",
        "\n",
        "        epoch_val_loss = val_loss / len(valid_loader.dataset)\n",
        "        val_losses.append(epoch_val_loss)\n",
        "\n",
        "        print(f'Epoch {epoch+1}: Train Loss: {epoch_loss:.4f}, Validation Loss: {epoch_val_loss:.4f}')\n",
        "\n",
        "    return train_losses, val_losses\n",
        "\n",
        "# Run the training loop\n",
        "num_epochs = 20\n",
        "train_losses, val_losses = train_model(model, criterion, optimizer, train_loader, valid_loader, epochs=num_epochs)\n"
      ],
      "metadata": {
        "colab": {
          "base_uri": "https://localhost:8080/"
        },
        "id": "vZps-bk8bbpD",
        "outputId": "1b4d7ac1-8136-447a-d513-0d4cb539ffcd"
      },
      "execution_count": 23,
      "outputs": [
        {
          "output_type": "stream",
          "name": "stdout",
          "text": [
            "Epoch 1: Train Loss: 0.1154, Validation Loss: 0.0610\n",
            "Epoch 2: Train Loss: 0.0419, Validation Loss: 0.0371\n",
            "Epoch 3: Train Loss: 0.0331, Validation Loss: 0.0294\n",
            "Epoch 4: Train Loss: 0.0286, Validation Loss: 0.0362\n",
            "Epoch 5: Train Loss: 0.0254, Validation Loss: 0.0239\n",
            "Epoch 6: Train Loss: 0.0230, Validation Loss: 0.0203\n",
            "Epoch 7: Train Loss: 0.0221, Validation Loss: 0.0229\n",
            "Epoch 8: Train Loss: 0.0197, Validation Loss: 0.0185\n",
            "Epoch 9: Train Loss: 0.0197, Validation Loss: 0.0166\n",
            "Epoch 10: Train Loss: 0.0191, Validation Loss: 0.0191\n",
            "Epoch 11: Train Loss: 0.0172, Validation Loss: 0.0162\n",
            "Epoch 12: Train Loss: 0.0169, Validation Loss: 0.0239\n",
            "Epoch 13: Train Loss: 0.0163, Validation Loss: 0.0124\n",
            "Epoch 14: Train Loss: 0.0163, Validation Loss: 0.0151\n",
            "Epoch 15: Train Loss: 0.0161, Validation Loss: 0.0133\n",
            "Epoch 16: Train Loss: 0.0148, Validation Loss: 0.0142\n",
            "Epoch 17: Train Loss: 0.0151, Validation Loss: 0.0130\n",
            "Epoch 18: Train Loss: 0.0147, Validation Loss: 0.0150\n",
            "Epoch 19: Train Loss: 0.0149, Validation Loss: 0.0203\n",
            "Epoch 20: Train Loss: 0.0138, Validation Loss: 0.0185\n"
          ]
        }
      ]
    },
    {
      "cell_type": "code",
      "source": [
        "def test_model(model, test_loader, criterion):\n",
        "    model.eval()  # Set the model to evaluation mode\n",
        "    device = torch.device(\"cuda\" if torch.cuda.is_available() else \"cpu\")\n",
        "    test_loss = 0.0\n",
        "    total = 0\n",
        "    y_true = []\n",
        "    y_pred = []\n",
        "\n",
        "    with torch.no_grad():\n",
        "        for inputs, labels in test_loader:\n",
        "            inputs, labels = inputs.to(device), labels.to(device)\n",
        "            outputs = model(inputs)\n",
        "            loss = criterion(outputs, labels)\n",
        "            test_loss += loss.item() * inputs.size(0)\n",
        "            total += inputs.size(0)\n",
        "\n",
        "            _, predicted = torch.max(outputs.data, 1)\n",
        "            y_pred.extend(predicted.cpu().numpy())\n",
        "            y_true.extend(labels.cpu().numpy())\n",
        "\n",
        "    overall_accuracy = accuracy_score(y_true, y_pred)\n",
        "    print(f\"Test Loss: {test_loss / total:.4f}\")\n",
        "    print(f\"Test Accuracy: {overall_accuracy:.4f}\")\n",
        "\n",
        "# Evaluate the model\n",
        "test_model(model, test_loader, criterion)\n"
      ],
      "metadata": {
        "colab": {
          "base_uri": "https://localhost:8080/"
        },
        "id": "xaEBnxKFdGzH",
        "outputId": "da1e44d8-0c09-4606-c555-92f438ef6c6e"
      },
      "execution_count": 25,
      "outputs": [
        {
          "output_type": "stream",
          "name": "stdout",
          "text": [
            "Test Loss: 0.0174\n",
            "Test Accuracy: 0.9947\n"
          ]
        }
      ]
    },
    {
      "cell_type": "code",
      "source": [
        "plt.figure(figsize=(10, 5))\n",
        "plt.plot(range(1, num_epochs + 1), train_losses, label='Training Loss', marker='o')\n",
        "plt.plot(range(1, num_epochs + 1), val_losses, label='Validation Loss', marker='o')\n",
        "plt.title('Training and Validation Losses Over Epochs')\n",
        "plt.xlabel('Epoch')\n",
        "plt.ylabel('Loss')\n",
        "plt.legend()\n",
        "plt.grid(True)\n",
        "plt.show()\n"
      ],
      "metadata": {
        "colab": {
          "base_uri": "https://localhost:8080/",
          "height": 487
        },
        "id": "3E98xqwMdObm",
        "outputId": "2ca48e36-716e-488c-d819-eb27702ad130"
      },
      "execution_count": 26,
      "outputs": [
        {
          "output_type": "display_data",
          "data": {
            "text/plain": [
              "<Figure size 1000x500 with 1 Axes>"
            ],
            "image/png": "[encoded data removed]"
          },
          "metadata": {}
        }
      ]
    },
    {
      "cell_type": "code",
      "source": [
        "from sklearn.metrics import confusion_matrix\n",
        "import numpy as np\n",
        "\n",
        "# Assuming y_true and y_pred are the lists of true and predicted labels from the test set\n",
        "cm = confusion_matrix(y_true, y_pred)\n",
        "class_accuracy = 100 * cm.diagonal() / cm.sum(axis=1)  # Calculate accuracy per class in percentage\n",
        "\n",
        "# Print class accuracies\n",
        "class_labels = encoder.classes_  # Assuming encoder is your LabelEncoder instance used earlier\n",
        "for label, accuracy in zip(class_labels, class_accuracy):\n",
        "    print(f'Accuracy for class {label}: {accuracy:.2f}%')\n"
      ],
      "metadata": {
        "colab": {
          "base_uri": "https://localhost:8080/"
        },
        "id": "VCc2uWmTenE9",
        "outputId": "30db1824-6ce6-45e0-f2fd-534e528c09ec"
      },
      "execution_count": 32,
      "outputs": [
        {
          "output_type": "stream",
          "name": "stdout",
          "text": [
            "Accuracy for class 0: 98.42%\n",
            "Accuracy for class 1: 84.06%\n",
            "Accuracy for class 2: 100.00%\n",
            "Accuracy for class 3: 100.00%\n",
            "Accuracy for class 4: 80.00%\n",
            "Accuracy for class 5: 66.67%\n",
            "Accuracy for class 6: 100.00%\n",
            "Accuracy for class 7: 100.00%\n",
            "Accuracy for class 8: 97.40%\n",
            "Accuracy for class 9: 100.00%\n",
            "Accuracy for class 10: 96.27%\n",
            "Accuracy for class 11: 77.08%\n"
          ]
        }
      ]
    },
    {
      "cell_type": "code",
      "source": [
        "import matplotlib.pyplot as plt\n",
        "\n",
        "plt.figure(figsize=(12, 6))\n",
        "plt.bar(class_labels, class_accuracy, color='skyblue')\n",
        "plt.xlabel('Class Labels')\n",
        "plt.ylabel('Accuracy (%)')\n",
        "plt.title('Accuracy for Each Class')\n",
        "plt.xticks(rotation=45)  # Rotate class labels for better visibility if needed\n",
        "plt.grid(axis='y', linestyle='--', alpha=0.7)\n",
        "plt.show()\n"
      ],
      "metadata": {
        "colab": {
          "base_uri": "https://localhost:8080/",
          "height": 572
        },
        "id": "yDHG1ZuJepLy",
        "outputId": "80c5c1c5-f371-4a1e-b658-7f2ca6422b69"
      },
      "execution_count": 33,
      "outputs": [
        {
          "output_type": "display_data",
          "data": {
            "text/plain": [
              "<Figure size 1200x600 with 1 Axes>"
            ],
            "image/png": "[encoded data removed]"
          },
          "metadata": {}
        }
      ]
    },
    {
      "cell_type": "code",
      "source": [],
      "metadata": {
        "id": "CXW5Jwl8fbxz"
      },
      "execution_count": null,
      "outputs": []
    }
  ]
}